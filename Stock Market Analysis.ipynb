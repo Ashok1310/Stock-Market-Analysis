{
 "cells": [
  {
   "cell_type": "code",
   "execution_count": 2,
   "metadata": {},
   "outputs": [],
   "source": [
    "import numpy as np\n",
    "import pandas as pd\n",
    "import matplotlib.pyplot as plt\n",
    "import seaborn as sns"
   ]
  },
  {
   "cell_type": "code",
   "execution_count": 3,
   "metadata": {},
   "outputs": [],
   "source": [
    "data=pd.read_csv(\"F:/My Folder/Data Science/Project/Stock Market Analysis/INFY.csv\")"
   ]
  },
  {
   "cell_type": "code",
   "execution_count": 4,
   "metadata": {},
   "outputs": [
    {
     "data": {
      "text/html": [
       "<div>\n",
       "<style scoped>\n",
       "    .dataframe tbody tr th:only-of-type {\n",
       "        vertical-align: middle;\n",
       "    }\n",
       "\n",
       "    .dataframe tbody tr th {\n",
       "        vertical-align: top;\n",
       "    }\n",
       "\n",
       "    .dataframe thead th {\n",
       "        text-align: right;\n",
       "    }\n",
       "</style>\n",
       "<table border=\"1\" class=\"dataframe\">\n",
       "  <thead>\n",
       "    <tr style=\"text-align: right;\">\n",
       "      <th></th>\n",
       "      <th>Date</th>\n",
       "      <th>Open</th>\n",
       "      <th>High</th>\n",
       "      <th>Low</th>\n",
       "      <th>Last</th>\n",
       "      <th>Close</th>\n",
       "      <th>Total Trade Quantity</th>\n",
       "      <th>Turnover (Lacs)</th>\n",
       "    </tr>\n",
       "  </thead>\n",
       "  <tbody>\n",
       "    <tr>\n",
       "      <th>0</th>\n",
       "      <td>2011-06-29</td>\n",
       "      <td>2868.00</td>\n",
       "      <td>2907.00</td>\n",
       "      <td>2868.0</td>\n",
       "      <td>2880.0</td>\n",
       "      <td>2881.75</td>\n",
       "      <td>600094.0</td>\n",
       "      <td>17320.05</td>\n",
       "    </tr>\n",
       "    <tr>\n",
       "      <th>1</th>\n",
       "      <td>2011-06-30</td>\n",
       "      <td>2886.05</td>\n",
       "      <td>2919.00</td>\n",
       "      <td>2881.5</td>\n",
       "      <td>2903.1</td>\n",
       "      <td>2910.45</td>\n",
       "      <td>1417730.0</td>\n",
       "      <td>41163.32</td>\n",
       "    </tr>\n",
       "    <tr>\n",
       "      <th>2</th>\n",
       "      <td>2011-07-01</td>\n",
       "      <td>2935.00</td>\n",
       "      <td>2969.95</td>\n",
       "      <td>2924.1</td>\n",
       "      <td>2928.0</td>\n",
       "      <td>2934.15</td>\n",
       "      <td>800308.0</td>\n",
       "      <td>23549.85</td>\n",
       "    </tr>\n",
       "    <tr>\n",
       "      <th>3</th>\n",
       "      <td>2011-07-04</td>\n",
       "      <td>2966.65</td>\n",
       "      <td>2977.00</td>\n",
       "      <td>2935.0</td>\n",
       "      <td>2941.0</td>\n",
       "      <td>2938.95</td>\n",
       "      <td>514324.0</td>\n",
       "      <td>15162.29</td>\n",
       "    </tr>\n",
       "    <tr>\n",
       "      <th>4</th>\n",
       "      <td>2011-07-05</td>\n",
       "      <td>2957.00</td>\n",
       "      <td>2969.90</td>\n",
       "      <td>2926.0</td>\n",
       "      <td>2959.0</td>\n",
       "      <td>2956.45</td>\n",
       "      <td>802966.0</td>\n",
       "      <td>23701.22</td>\n",
       "    </tr>\n",
       "  </tbody>\n",
       "</table>\n",
       "</div>"
      ],
      "text/plain": [
       "         Date     Open     High     Low    Last    Close  \\\n",
       "0  2011-06-29  2868.00  2907.00  2868.0  2880.0  2881.75   \n",
       "1  2011-06-30  2886.05  2919.00  2881.5  2903.1  2910.45   \n",
       "2  2011-07-01  2935.00  2969.95  2924.1  2928.0  2934.15   \n",
       "3  2011-07-04  2966.65  2977.00  2935.0  2941.0  2938.95   \n",
       "4  2011-07-05  2957.00  2969.90  2926.0  2959.0  2956.45   \n",
       "\n",
       "   Total Trade Quantity  Turnover (Lacs)  \n",
       "0              600094.0         17320.05  \n",
       "1             1417730.0         41163.32  \n",
       "2              800308.0         23549.85  \n",
       "3              514324.0         15162.29  \n",
       "4              802966.0         23701.22  "
      ]
     },
     "execution_count": 4,
     "metadata": {},
     "output_type": "execute_result"
    }
   ],
   "source": [
    "data.head()"
   ]
  },
  {
   "cell_type": "code",
   "execution_count": 5,
   "metadata": {},
   "outputs": [
    {
     "data": {
      "text/html": [
       "<div>\n",
       "<style scoped>\n",
       "    .dataframe tbody tr th:only-of-type {\n",
       "        vertical-align: middle;\n",
       "    }\n",
       "\n",
       "    .dataframe tbody tr th {\n",
       "        vertical-align: top;\n",
       "    }\n",
       "\n",
       "    .dataframe thead th {\n",
       "        text-align: right;\n",
       "    }\n",
       "</style>\n",
       "<table border=\"1\" class=\"dataframe\">\n",
       "  <thead>\n",
       "    <tr style=\"text-align: right;\">\n",
       "      <th></th>\n",
       "      <th>Open</th>\n",
       "      <th>High</th>\n",
       "      <th>Low</th>\n",
       "      <th>Last</th>\n",
       "      <th>Close</th>\n",
       "      <th>Total Trade Quantity</th>\n",
       "      <th>Turnover (Lacs)</th>\n",
       "    </tr>\n",
       "  </thead>\n",
       "  <tbody>\n",
       "    <tr>\n",
       "      <th>count</th>\n",
       "      <td>1863.000000</td>\n",
       "      <td>1863.000000</td>\n",
       "      <td>1863.000000</td>\n",
       "      <td>1863.00000</td>\n",
       "      <td>1863.000000</td>\n",
       "      <td>1.863000e+03</td>\n",
       "      <td>1863.000000</td>\n",
       "    </tr>\n",
       "    <tr>\n",
       "      <th>mean</th>\n",
       "      <td>1962.818760</td>\n",
       "      <td>1983.337064</td>\n",
       "      <td>1942.258320</td>\n",
       "      <td>1962.86766</td>\n",
       "      <td>1963.062641</td>\n",
       "      <td>2.875385e+06</td>\n",
       "      <td>41034.223446</td>\n",
       "    </tr>\n",
       "    <tr>\n",
       "      <th>std</th>\n",
       "      <td>961.706168</td>\n",
       "      <td>971.631763</td>\n",
       "      <td>953.680277</td>\n",
       "      <td>963.25318</td>\n",
       "      <td>963.288674</td>\n",
       "      <td>3.595220e+06</td>\n",
       "      <td>39354.103885</td>\n",
       "    </tr>\n",
       "    <tr>\n",
       "      <th>min</th>\n",
       "      <td>621.000000</td>\n",
       "      <td>628.000000</td>\n",
       "      <td>599.850000</td>\n",
       "      <td>619.50000</td>\n",
       "      <td>619.100000</td>\n",
       "      <td>2.169400e+04</td>\n",
       "      <td>609.810000</td>\n",
       "    </tr>\n",
       "    <tr>\n",
       "      <th>25%</th>\n",
       "      <td>1053.975000</td>\n",
       "      <td>1063.075000</td>\n",
       "      <td>1043.025000</td>\n",
       "      <td>1054.75000</td>\n",
       "      <td>1054.175000</td>\n",
       "      <td>1.009240e+06</td>\n",
       "      <td>23993.260000</td>\n",
       "    </tr>\n",
       "    <tr>\n",
       "      <th>50%</th>\n",
       "      <td>2030.000000</td>\n",
       "      <td>2051.550000</td>\n",
       "      <td>2002.150000</td>\n",
       "      <td>2022.20000</td>\n",
       "      <td>2020.900000</td>\n",
       "      <td>2.017724e+06</td>\n",
       "      <td>33154.160000</td>\n",
       "    </tr>\n",
       "    <tr>\n",
       "      <th>75%</th>\n",
       "      <td>2781.000000</td>\n",
       "      <td>2806.300000</td>\n",
       "      <td>2752.050000</td>\n",
       "      <td>2781.52500</td>\n",
       "      <td>2785.300000</td>\n",
       "      <td>3.505464e+06</td>\n",
       "      <td>46187.235000</td>\n",
       "    </tr>\n",
       "    <tr>\n",
       "      <th>max</th>\n",
       "      <td>4387.000000</td>\n",
       "      <td>4402.200000</td>\n",
       "      <td>4343.400000</td>\n",
       "      <td>4369.50000</td>\n",
       "      <td>4365.900000</td>\n",
       "      <td>8.220248e+07</td>\n",
       "      <td>826850.680000</td>\n",
       "    </tr>\n",
       "  </tbody>\n",
       "</table>\n",
       "</div>"
      ],
      "text/plain": [
       "              Open         High          Low        Last        Close  \\\n",
       "count  1863.000000  1863.000000  1863.000000  1863.00000  1863.000000   \n",
       "mean   1962.818760  1983.337064  1942.258320  1962.86766  1963.062641   \n",
       "std     961.706168   971.631763   953.680277   963.25318   963.288674   \n",
       "min     621.000000   628.000000   599.850000   619.50000   619.100000   \n",
       "25%    1053.975000  1063.075000  1043.025000  1054.75000  1054.175000   \n",
       "50%    2030.000000  2051.550000  2002.150000  2022.20000  2020.900000   \n",
       "75%    2781.000000  2806.300000  2752.050000  2781.52500  2785.300000   \n",
       "max    4387.000000  4402.200000  4343.400000  4369.50000  4365.900000   \n",
       "\n",
       "       Total Trade Quantity  Turnover (Lacs)  \n",
       "count          1.863000e+03      1863.000000  \n",
       "mean           2.875385e+06     41034.223446  \n",
       "std            3.595220e+06     39354.103885  \n",
       "min            2.169400e+04       609.810000  \n",
       "25%            1.009240e+06     23993.260000  \n",
       "50%            2.017724e+06     33154.160000  \n",
       "75%            3.505464e+06     46187.235000  \n",
       "max            8.220248e+07    826850.680000  "
      ]
     },
     "execution_count": 5,
     "metadata": {},
     "output_type": "execute_result"
    }
   ],
   "source": [
    "data.describe()"
   ]
  },
  {
   "cell_type": "code",
   "execution_count": 6,
   "metadata": {},
   "outputs": [
    {
     "name": "stdout",
     "output_type": "stream",
     "text": [
      "<class 'pandas.core.frame.DataFrame'>\n",
      "RangeIndex: 1863 entries, 0 to 1862\n",
      "Data columns (total 8 columns):\n",
      "Date                    1863 non-null object\n",
      "Open                    1863 non-null float64\n",
      "High                    1863 non-null float64\n",
      "Low                     1863 non-null float64\n",
      "Last                    1863 non-null float64\n",
      "Close                   1863 non-null float64\n",
      "Total Trade Quantity    1863 non-null float64\n",
      "Turnover (Lacs)         1863 non-null float64\n",
      "dtypes: float64(7), object(1)\n",
      "memory usage: 116.5+ KB\n"
     ]
    }
   ],
   "source": [
    "data.info()"
   ]
  },
  {
   "cell_type": "code",
   "execution_count": 7,
   "metadata": {},
   "outputs": [
    {
     "data": {
      "text/plain": [
       "(1863, 8)"
      ]
     },
     "execution_count": 7,
     "metadata": {},
     "output_type": "execute_result"
    }
   ],
   "source": [
    "data.shape"
   ]
  },
  {
   "cell_type": "code",
   "execution_count": 8,
   "metadata": {},
   "outputs": [
    {
     "data": {
      "image/png": "[encoded data removed]",
      "text/plain": [
       "<Figure size 432x288 with 9 Axes>"
      ]
     },
     "metadata": {
      "needs_background": "light"
     },
     "output_type": "display_data"
    }
   ],
   "source": [
    "hist = data.hist(bins=5)"
   ]
  },
  {
   "cell_type": "code",
   "execution_count": 9,
   "metadata": {},
   "outputs": [
    {
     "data": {
      "text/plain": [
       "<matplotlib.axes._subplots.AxesSubplot at 0x1bc900990b8>"
      ]
     },
     "execution_count": 9,
     "metadata": {},
     "output_type": "execute_result"
    },
    {
     "data": {
      "image/png": "[encoded data removed]",
      "text/plain": [
       "<Figure size 432x288 with 2 Axes>"
      ]
     },
     "metadata": {
      "needs_background": "light"
     },
     "output_type": "display_data"
    }
   ],
   "source": [
    "corr = data.corr()\n",
    "sns.heatmap(corr, xticklabels=corr.columns.values,yticklabels=corr.columns.values)"
   ]
  },
  {
   "cell_type": "code",
   "execution_count": 10,
   "metadata": {},
   "outputs": [
    {
     "data": {
      "text/plain": [
       "0"
      ]
     },
     "execution_count": 10,
     "metadata": {},
     "output_type": "execute_result"
    }
   ],
   "source": [
    "data.isnull().sum().sum()"
   ]
  },
  {
   "cell_type": "code",
   "execution_count": 25,
   "metadata": {},
   "outputs": [],
   "source": [
    "x=data.loc[:,'High':'Turnover (Lacs)']###Give data to model from first attribute\n",
    "y=data.loc[:,'Open']##Give value to model from data\n"
   ]
  },
  {
   "cell_type": "code",
   "execution_count": 30,
   "metadata": {},
   "outputs": [],
   "source": [
    "from sklearn.model_selection import train_test_split\n",
    "x_train,x_test,y_train,y_test=train_test_split(x,y,test_size=0.2,random_state=1)"
   ]
  },
  {
   "cell_type": "code",
   "execution_count": 31,
   "metadata": {},
   "outputs": [
    {
     "name": "stdout",
     "output_type": "stream",
     "text": [
      "0.9991170138746875\n"
     ]
    }
   ],
   "source": [
    "from sklearn.tree import DecisionTreeRegressor\n",
    "dt=DecisionTreeRegressor()\n",
    "test= [[2823.8,2780.1,2815.25,2815.1,761869.0,21421.66]]\n",
    "dt.fit(x_train,y_train)\n",
    "dt.predict(x_test)\n",
    "print(dt.score(x_test,y_test))"
   ]
  },
  {
   "cell_type": "code",
   "execution_count": null,
   "metadata": {},
   "outputs": [],
   "source": []
  }
 ],
 "metadata": {
  "kernelspec": {
   "display_name": "Python 3",
   "language": "python",
   "name": "python3"
  },
  "language_info": {
   "codemirror_mode": {
    "name": "ipython",
    "version": 3
   },
   "file_extension": ".py",
   "mimetype": "text/x-python",
   "name": "python",
   "nbconvert_exporter": "python",
   "pygments_lexer": "ipython3",
   "version": "3.7.1"
  }
 },
 "nbformat": 4,
 "nbformat_minor": 2
}
